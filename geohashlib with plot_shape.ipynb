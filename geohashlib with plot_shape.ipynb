{
 "cells": [
  {
   "cell_type": "markdown",
   "metadata": {},
   "source": [
    "# Testing geohashlib in a notebook\n"
   ]
  },
  {
   "cell_type": "code",
   "execution_count": 2,
   "metadata": {},
   "outputs": [],
   "source": [
    "import geohashlib as g\n",
    "import matplotlib.pyplot as plt\n",
    "from matplotlib.collections import PatchCollection\n",
    "#from mpl_toolkits.basemap import Basemap\n",
    "%matplotlib inline"
   ]
  },
  {
   "cell_type": "markdown",
   "metadata": {},
   "source": [
    "## David's Example should be dr5rustf\n",
    "\n",
    "A slight nuance to this is that the coordinates provided were in reverse order of what this function takes. In future cases, it should [longitude,latitude] as opposed to [latitude,longitude]."
   ]
  },
  {
   "cell_type": "code",
   "execution_count": 3,
   "metadata": {},
   "outputs": [
    {
     "name": "stdout",
     "output_type": "stream",
     "text": [
      "Geohash is:\n",
      "['dr5rustf']\n"
     ]
    }
   ],
   "source": [
    "david_example = \"\"\"\n",
    "{\n",
    "  \"type\":\"Polygon\",\n",
    "  \"coordinates\":[[[-73.9741,40.7626], \n",
    "                  [-73.9736,40.7626], \n",
    "                  [-73.9737,40.7622], \n",
    "                  [-73.9740,40.7622]]]\n",
    "}\n",
    "\"\"\"\n",
    "davids_polygon = g.load_from_json(david_example)\n",
    "print(\"Geohash is:\")\n",
    "print(g.shape2geohash(davids_polygon, 8, 'inside'))"
   ]
  },
  {
   "cell_type": "markdown",
   "metadata": {},
   "source": [
    "### The 8 surrounding geohashes"
   ]
  },
  {
   "cell_type": "code",
   "execution_count": 4,
   "metadata": {},
   "outputs": [
    {
     "data": {
      "text/plain": [
       "['dr5rust9',\n",
       " 'dr5rustd',\n",
       " 'dr5ruste',\n",
       " 'dr5rustc',\n",
       " 'dr5rustg',\n",
       " 'dr5rusw1',\n",
       " 'dr5rusw4',\n",
       " 'dr5rusw5']"
      ]
     },
     "execution_count": 4,
     "metadata": {},
     "output_type": "execute_result"
    }
   ],
   "source": [
    "g.neighbors('dr5rustf')"
   ]
  },
  {
   "cell_type": "markdown",
   "metadata": {},
   "source": [
    "Trying David's neighbors example."
   ]
  },
  {
   "cell_type": "code",
   "execution_count": 5,
   "metadata": {},
   "outputs": [
    {
     "data": {
      "text/plain": [
       "['dr5ruddn',\n",
       " 'dr5ruddp',\n",
       " 'dr5rudf0',\n",
       " 'dr5ruddq',\n",
       " 'dr5rudf2',\n",
       " 'dr5ruddw',\n",
       " 'dr5ruddx',\n",
       " 'dr5rudf8']"
      ]
     },
     "execution_count": 5,
     "metadata": {},
     "output_type": "execute_result"
    }
   ],
   "source": [
    "g.neighbors('dr5ruddr')"
   ]
  },
  {
   "cell_type": "markdown",
   "metadata": {},
   "source": [
    "### Create an example set of geohashes"
   ]
  },
  {
   "cell_type": "code",
   "execution_count": 6,
   "metadata": {},
   "outputs": [
    {
     "name": "stdout",
     "output_type": "stream",
     "text": [
      "['dr5rustc3', 'dr5rustc6', 'dr5rustc7', 'dr5rustck', 'dr5rustcm', 'dr5rustcq', 'dr5rustcr', 'dr5rustc9', 'dr5rustcd', 'dr5rustce', 'dr5rustcs', 'dr5rustct', 'dr5rustcw', 'dr5rustcx', 'dr5rustcc', 'dr5rustcf', 'dr5rustcg', 'dr5rustcu', 'dr5rustcv', 'dr5rustcy', 'dr5rustcz', 'dr5rustf0', 'dr5rustf1', 'dr5rustf4', 'dr5rustf5', 'dr5rustfh', 'dr5rustfj', 'dr5rustfn', 'dr5rustfp', 'dr5rustf2', 'dr5rustf3', 'dr5rustf6', 'dr5rustf7', 'dr5rustfk', 'dr5rustfm', 'dr5rustfq', 'dr5rustfr', 'dr5rusw42', 'dr5rustf8', 'dr5rustf9', 'dr5rustfd', 'dr5rustfe', 'dr5rustfs', 'dr5rustft', 'dr5rustfw', 'dr5rustfx', 'dr5rusw48', 'dr5rustfb', 'dr5rustfc', 'dr5rustff', 'dr5rustfg', 'dr5rustfu', 'dr5rustfv', 'dr5rustfy', 'dr5rustfz', 'dr5rusw4b', 'dr5rustep', 'dr5rustg0', 'dr5rustg1', 'dr5rustg4', 'dr5rustg5', 'dr5rustgh', 'dr5rustgj', 'dr5rustgn', 'dr5rustgp', 'dr5rusw50']\n"
     ]
    }
   ],
   "source": [
    "example_set = g.shape2geohash(davids_polygon, 9, 'inside')\n",
    "print(example_set)"
   ]
  },
  {
   "cell_type": "markdown",
   "metadata": {},
   "source": [
    "Function that turns geohashes into coordinates for the Polygon object"
   ]
  },
  {
   "cell_type": "code",
   "execution_count": 7,
   "metadata": {},
   "outputs": [
    {
     "data": {
      "text/plain": [
       "{\"coordinates\": [[40.76225996017456, -73.9739727973938], [40.76225996017456, -73.97371530532837], [40.762388706207275, -73.97401571273804], [40.762431621551514, -73.97367238998413], [40.76256036758423, -73.97405862808228], [40.76256036758423, -73.97367238998413]], \"type\": \"Polygon\"}"
      ]
     },
     "execution_count": 7,
     "metadata": {},
     "output_type": "execute_result"
    }
   ],
   "source": [
    "shape = g.geohash2shape(example_set)\n",
    "shape"
   ]
  },
  {
   "cell_type": "code",
   "execution_count": 8,
   "metadata": {},
   "outputs": [
    {
     "data": {
      "text/plain": [
       "geojson.geometry.Polygon"
      ]
     },
     "execution_count": 8,
     "metadata": {},
     "output_type": "execute_result"
    }
   ],
   "source": [
    "shape.__class__"
   ]
  },
  {
   "cell_type": "code",
   "execution_count": 32,
   "metadata": {},
   "outputs": [
    {
     "data": {
      "image/png": "[encoded data removed]",
      "text/plain": [
       "<matplotlib.figure.Figure at 0x7fed41070c10>"
      ]
     },
     "metadata": {},
     "output_type": "display_data"
    }
   ],
   "source": [
    "coords = shape['coordinates']\n",
    "x = [i for i,j in coords]\n",
    "y = [j for i,j in coords]\n",
    "fig = plt.figure()\n",
    "ax = fig.gca()\n",
    "ax.plot(x,y)\n",
    "ax.axis('scaled')\n",
    "plt.show()"
   ]
  },
  {
   "cell_type": "code",
   "execution_count": 30,
   "metadata": {},
   "outputs": [
    {
     "data": {
      "image/png": "[encoded data removed]",
      "text/plain": [
       "<matplotlib.figure.Figure at 0x7fed40c8d9d0>"
      ]
     },
     "metadata": {},
     "output_type": "display_data"
    }
   ],
   "source": [
    "from scipy.spatial import ConvexHull\n",
    "import numpy as np\n",
    "\n",
    "def plot_shape(shape_):\n",
    "    coords = shape_['coordinates']\n",
    "    points = np.array([[x,y] for (x,y) in coords])\n",
    "    hull = ConvexHull(coords)\n",
    "    import matplotlib.pyplot as plt\n",
    "    plt.plot(points[:,0], points[:,1], 'o')\n",
    "    for simplex in hull.simplices:\n",
    "        plt.plot(points[simplex, 0], points[simplex, 1], 'k-')\n",
    "    plt.show()\n",
    "\n",
    "plot_shape(shape)"
   ]
  },
  {
   "cell_type": "code",
   "execution_count": null,
   "metadata": {
    "collapsed": true
   },
   "outputs": [],
   "source": []
  }
 ],
 "metadata": {
  "kernelspec": {
   "display_name": "Python 2",
   "language": "python",
   "name": "python2"
  },
  "language_info": {
   "codemirror_mode": {
    "name": "ipython",
    "version": 2
   },
   "file_extension": ".py",
   "mimetype": "text/x-python",
   "name": "python",
   "nbconvert_exporter": "python",
   "pygments_lexer": "ipython2",
   "version": "2.7.13"
  }
 },
 "nbformat": 4,
 "nbformat_minor": 2
}
