{
 "cells": [
  {
   "cell_type": "markdown",
   "metadata": {},
   "source": [
    "# geoJSON to geohash David example with libgeohash\n"
   ]
  },
  {
   "cell_type": "code",
   "execution_count": 1,
   "metadata": {
    "collapsed": true
   },
   "outputs": [],
   "source": [
    "from libgeohash import *"
   ]
  },
  {
   "cell_type": "markdown",
   "metadata": {},
   "source": [
    "## David's Example should be dr5rustf\n",
    "\n",
    "A slight nuance to this is that the coordinates provided were in reverse order of what this function takes. In future cases, it should [longitude,latitude] as opposed to [latitude,longitude]."
   ]
  },
  {
   "cell_type": "code",
   "execution_count": 2,
   "metadata": {},
   "outputs": [
    {
     "name": "stdout",
     "output_type": "stream",
     "text": [
      "Geohash is:\n",
      "['dr5rustf']\n"
     ]
    }
   ],
   "source": [
    "david_example = \"\"\"{\"type\":\"Polygon\",\"coordinates\":[[[-73.9741,40.7626], \n",
    "    [-73.9736,40.7626], [-73.9737,40.7622], [-73.9740,40.7622]]]}\"\"\"\n",
    "\n",
    "\n",
    "davids_polygon = load_from_JSON(david_example)\n",
    "print \"Geohash is:\"\n",
    "print geohash_shape(davids_polygon, 8, 'inside')"
   ]
  },
  {
   "cell_type": "markdown",
   "metadata": {},
   "source": [
    "### The 8 surrounding geohashes"
   ]
  },
  {
   "cell_type": "code",
   "execution_count": 3,
   "metadata": {},
   "outputs": [
    {
     "data": {
      "text/plain": [
       "['dr5rust9',\n",
       " 'dr5rustd',\n",
       " 'dr5ruste',\n",
       " 'dr5rustc',\n",
       " 'dr5rustg',\n",
       " 'dr5rusw1',\n",
       " 'dr5rusw4',\n",
       " 'dr5rusw5']"
      ]
     },
     "execution_count": 3,
     "metadata": {},
     "output_type": "execute_result"
    }
   ],
   "source": [
    "neighbors('dr5rustf')"
   ]
  },
  {
   "cell_type": "markdown",
   "metadata": {},
   "source": [
    "Trying David's neighbors example."
   ]
  },
  {
   "cell_type": "code",
   "execution_count": 4,
   "metadata": {},
   "outputs": [
    {
     "data": {
      "text/plain": [
       "['dr5ruddn',\n",
       " 'dr5ruddp',\n",
       " 'dr5rudf0',\n",
       " 'dr5ruddq',\n",
       " 'dr5rudf2',\n",
       " 'dr5ruddw',\n",
       " 'dr5ruddx',\n",
       " 'dr5rudf8']"
      ]
     },
     "execution_count": 4,
     "metadata": {},
     "output_type": "execute_result"
    }
   ],
   "source": [
    "neighbors('dr5ruddr')"
   ]
  },
  {
   "cell_type": "markdown",
   "metadata": {},
   "source": [
    "### Create an example set of geohashes"
   ]
  },
  {
   "cell_type": "code",
   "execution_count": 5,
   "metadata": {
    "collapsed": true
   },
   "outputs": [],
   "source": [
    "example_set = geohash_shape(davids_polygon, 9, 'inside')"
   ]
  },
  {
   "cell_type": "markdown",
   "metadata": {},
   "source": [
    "Function that turns geohashes into coordinates for the Polygon object"
   ]
  },
  {
   "cell_type": "code",
   "execution_count": 6,
   "metadata": {},
   "outputs": [
    {
     "data": {
      "text/plain": [
       "{\"coordinates\": [[40.76225996017456, -73.9739727973938], [40.76225996017456, -73.97371530532837], [40.762388706207275, -73.97401571273804], [40.762431621551514, -73.97367238998413], [40.76256036758423, -73.97405862808228], [40.76256036758423, -73.97367238998413]], \"type\": \"Polygon\"}"
      ]
     },
     "execution_count": 6,
     "metadata": {},
     "output_type": "execute_result"
    }
   ],
   "source": [
    "hash2poly(example_set)"
   ]
  }
 ],
 "metadata": {
  "kernelspec": {
   "display_name": "Python 2",
   "language": "python",
   "name": "python2"
  },
  "language_info": {
   "codemirror_mode": {
    "name": "ipython",
    "version": 2
   },
   "file_extension": ".py",
   "mimetype": "text/x-python",
   "name": "python",
   "nbconvert_exporter": "python",
   "pygments_lexer": "ipython2",
   "version": "2.7.13"
  }
 },
 "nbformat": 4,
 "nbformat_minor": 2
}
