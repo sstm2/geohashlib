{
 "cells": [
  {
   "cell_type": "markdown",
   "metadata": {},
   "source": [
    "# geoJSON to geohash functions for geohashlib\n"
   ]
  },
  {
   "cell_type": "code",
   "execution_count": 1,
   "metadata": {
    "collapsed": true
   },
   "outputs": [],
   "source": [
    "import os\n",
    "os.chdir('../geohash-shape/geohashshape')\n",
    "\n",
    "from geojson import Polygon\n",
    "import geohash_shape\n",
    "import unittest\n",
    "import json\n",
    "import geohash\n",
    "import matplotlib.pyplot as plt\n",
    "%matplotlib inline\n",
    "\n",
    "from geohash_shape import neighbor\n",
    "\n",
    "from shapely.geometry.base import BaseGeometry\n",
    "from shapely.geometry import box, mapping, shape\n",
    "from geohashshape import geohash_shape"
   ]
  },
  {
   "cell_type": "markdown",
   "metadata": {},
   "source": [
    "Below are a couple functions that can be found in geohash-shape's \"tests\" folder."
   ]
  },
  {
   "cell_type": "code",
   "execution_count": 2,
   "metadata": {
    "collapsed": true
   },
   "outputs": [],
   "source": [
    "def load_from_JSON(json_string):\n",
    "    return json.loads(json_string, cls=ShapelyDecoder)\n",
    "\n",
    "class ShapelyDecoder(json.JSONDecoder):\n",
    "    def decode(self, json_string):\n",
    "\n",
    "        def shapely_object_hook(obj):\n",
    "            if 'coordinates' in obj and 'type' in obj:\n",
    "                return shape(obj)\n",
    "            return obj\n",
    "\n",
    "        return json.loads(json_string, object_hook=shapely_object_hook)"
   ]
  },
  {
   "cell_type": "markdown",
   "metadata": {},
   "source": [
    "## David's Example should be dr5rustf\n",
    "\n",
    "A slight nuance to this is that the coordinates provided were in reverse order of what this function takes. In future cases, it should [longitude,latitude] as opposed to [latitude,longitude]."
   ]
  },
  {
   "cell_type": "code",
   "execution_count": 3,
   "metadata": {},
   "outputs": [
    {
     "name": "stdout",
     "output_type": "stream",
     "text": [
      "Geohash is:\n",
      "['dr5rustf']\n"
     ]
    }
   ],
   "source": [
    "david_example = \"\"\"{\"type\":\"Polygon\",\"coordinates\":[[[-73.9741,40.7626], \n",
    "    [-73.9736,40.7626], [-73.9737,40.7622], [-73.9740,40.7622]]]}\"\"\"\n",
    "\n",
    "\n",
    "davids_polygon = load_from_JSON(david_example)\n",
    "print \"Geohash is:\"\n",
    "print geohash_shape(davids_polygon, 8, 'inside')"
   ]
  },
  {
   "cell_type": "markdown",
   "metadata": {},
   "source": [
    "### The 8 surrounding geohashes"
   ]
  },
  {
   "cell_type": "code",
   "execution_count": 4,
   "metadata": {},
   "outputs": [
    {
     "data": {
      "text/plain": [
       "['dr5rust9',\n",
       " 'dr5rustd',\n",
       " 'dr5ruste',\n",
       " 'dr5rustc',\n",
       " 'dr5rustg',\n",
       " 'dr5rusw1',\n",
       " 'dr5rusw4',\n",
       " 'dr5rusw5']"
      ]
     },
     "execution_count": 4,
     "metadata": {},
     "output_type": "execute_result"
    }
   ],
   "source": [
    "def neighbors(geo_hash):\n",
    "    directions = [[-1,-1],[0,-1],[1,-1],[-1,0],[1,0],[-1,1],[0,1],[1,1]]\n",
    "    surrounding_geohashes = [neighbor(geo_hash,direc) for direc in directions]\n",
    "    return surrounding_geohashes\n",
    "\n",
    "neighbors('dr5rustf')"
   ]
  },
  {
   "cell_type": "markdown",
   "metadata": {},
   "source": [
    "### Let's validate the neighbor function"
   ]
  },
  {
   "cell_type": "markdown",
   "metadata": {},
   "source": [
    "![img](/images/neighbor_example.png)"
   ]
  },
  {
   "cell_type": "markdown",
   "metadata": {},
   "source": [
    "Looks like it works!"
   ]
  },
  {
   "cell_type": "markdown",
   "metadata": {},
   "source": [
    "Trying David's neighbors example."
   ]
  },
  {
   "cell_type": "code",
   "execution_count": 13,
   "metadata": {},
   "outputs": [
    {
     "data": {
      "text/plain": [
       "['dr5ruddn',\n",
       " 'dr5ruddp',\n",
       " 'dr5rudf0',\n",
       " 'dr5ruddq',\n",
       " 'dr5rudf2',\n",
       " 'dr5ruddw',\n",
       " 'dr5ruddx',\n",
       " 'dr5rudf8']"
      ]
     },
     "execution_count": 13,
     "metadata": {},
     "output_type": "execute_result"
    }
   ],
   "source": [
    "neighbors('dr5ruddr')"
   ]
  },
  {
   "cell_type": "markdown",
   "metadata": {},
   "source": [
    "![img](/images/david_neighbors.png)"
   ]
  },
  {
   "cell_type": "markdown",
   "metadata": {},
   "source": [
    "There seems to be some disagreement?"
   ]
  },
  {
   "cell_type": "markdown",
   "metadata": {},
   "source": [
    "### Create an example set of geohashes"
   ]
  },
  {
   "cell_type": "code",
   "execution_count": 5,
   "metadata": {
    "collapsed": true
   },
   "outputs": [],
   "source": [
    "example_set = geohash_shape(davids_polygon, 9, 'inside')"
   ]
  },
  {
   "cell_type": "markdown",
   "metadata": {},
   "source": [
    "Function that turns geohashes into coordinates for the Polygon object"
   ]
  },
  {
   "cell_type": "code",
   "execution_count": 6,
   "metadata": {
    "collapsed": true
   },
   "outputs": [],
   "source": [
    "def to_coordinates(geohashes):\n",
    "    geohashes = [geohash.decode(h) for h in geohashes]\n",
    "    return geohashes"
   ]
  },
  {
   "cell_type": "markdown",
   "metadata": {},
   "source": [
    "Below is what the set currently looks like"
   ]
  },
  {
   "cell_type": "code",
   "execution_count": 7,
   "metadata": {},
   "outputs": [
    {
     "data": {
      "text/plain": [
       "[<matplotlib.lines.Line2D at 0x7f0874ee8650>]"
      ]
     },
     "execution_count": 7,
     "metadata": {},
     "output_type": "execute_result"
    },
    {
     "data": {
      "image/png": "[encoded data removed]",
      "text/plain": [
       "<matplotlib.figure.Figure at 0x7f08ac68e990>"
      ]
     },
     "metadata": {},
     "output_type": "display_data"
    }
   ],
   "source": [
    "x = [xx for (xx,yy) in to_coordinates(example_set)]\n",
    "y = [yy for (xx,yy) in to_coordinates(example_set)]\n",
    "plt.plot(x,y,'r.')"
   ]
  },
  {
   "cell_type": "markdown",
   "metadata": {},
   "source": [
    "Returns corners only"
   ]
  },
  {
   "cell_type": "code",
   "execution_count": 8,
   "metadata": {
    "collapsed": true
   },
   "outputs": [],
   "source": [
    "def corners(geohashes):\n",
    "    vertices = []\n",
    "    for geo in geohashes:\n",
    "        if (neighbor(geo,[1,0]) in geohashes) and (neighbor(geo,[-1,0]) in geohashes):\n",
    "            pass\n",
    "        elif (neighbor(geo,[0,-1]) in geohashes) and (neighbor(geo,[0,1]) in geohashes):\n",
    "            pass\n",
    "        else:\n",
    "            vertices.append(geo)\n",
    "    return vertices\n",
    "            "
   ]
  },
  {
   "cell_type": "markdown",
   "metadata": {},
   "source": [
    "New coordinates left to create the new polygon"
   ]
  },
  {
   "cell_type": "code",
   "execution_count": 9,
   "metadata": {},
   "outputs": [
    {
     "data": {
      "text/plain": [
       "[<matplotlib.lines.Line2D at 0x7f0874dcbc90>]"
      ]
     },
     "execution_count": 9,
     "metadata": {},
     "output_type": "execute_result"
    },
    {
     "data": {
      "image/png": "[encoded data removed]",
      "text/plain": [
       "<matplotlib.figure.Figure at 0x7f0874f270d0>"
      ]
     },
     "metadata": {},
     "output_type": "display_data"
    }
   ],
   "source": [
    "vx = [xx for (xx,yy) in to_coordinates(corners(example_set))]\n",
    "vy = [yy for (xx,yy) in to_coordinates(corners(example_set))]\n",
    "plt.plot(vx,vy,'r.')"
   ]
  },
  {
   "cell_type": "markdown",
   "metadata": {},
   "source": [
    "### The function below turns the corner geohashes into a Polygon"
   ]
  },
  {
   "cell_type": "code",
   "execution_count": 10,
   "metadata": {},
   "outputs": [
    {
     "data": {
      "text/plain": [
       "{\"coordinates\": [[40.76225996017456, -73.9739727973938], [40.76225996017456, -73.97371530532837], [40.762388706207275, -73.97401571273804], [40.762431621551514, -73.97367238998413], [40.76256036758423, -73.97405862808228], [40.76256036758423, -73.97367238998413]], \"type\": \"Polygon\"}"
      ]
     },
     "execution_count": 10,
     "metadata": {},
     "output_type": "execute_result"
    }
   ],
   "source": [
    "def return_shape(vert):\n",
    "    points = to_coordinates(vert)\n",
    "    return Polygon(points)\n",
    "\n",
    "return_shape(corners(example_set))"
   ]
  },
  {
   "cell_type": "markdown",
   "metadata": {},
   "source": [
    "One function to go from a set of geohashes to a shape"
   ]
  },
  {
   "cell_type": "code",
   "execution_count": 11,
   "metadata": {
    "collapsed": true
   },
   "outputs": [],
   "source": [
    "def hash2poly(geohashes):\n",
    "    corners_ = corners(geohashes)\n",
    "    shape_ = return_shape(corners_)\n",
    "    return shape_"
   ]
  },
  {
   "cell_type": "code",
   "execution_count": 12,
   "metadata": {},
   "outputs": [
    {
     "data": {
      "text/plain": [
       "{\"coordinates\": [[40.76225996017456, -73.9739727973938], [40.76225996017456, -73.97371530532837], [40.762388706207275, -73.97401571273804], [40.762431621551514, -73.97367238998413], [40.76256036758423, -73.97405862808228], [40.76256036758423, -73.97367238998413]], \"type\": \"Polygon\"}"
      ]
     },
     "execution_count": 12,
     "metadata": {},
     "output_type": "execute_result"
    }
   ],
   "source": [
    "hash2poly(example_set)"
   ]
  }
 ],
 "metadata": {
  "kernelspec": {
   "display_name": "Python 2",
   "language": "python",
   "name": "python2"
  },
  "language_info": {
   "codemirror_mode": {
    "name": "ipython",
    "version": 2
   },
   "file_extension": ".py",
   "mimetype": "text/x-python",
   "name": "python",
   "nbconvert_exporter": "python",
   "pygments_lexer": "ipython2",
   "version": "2.7.13"
  }
 },
 "nbformat": 4,
 "nbformat_minor": 2
}
